{
 "cells": [
  {
   "cell_type": "code",
   "execution_count": 1,
   "id": "d1227a17",
   "metadata": {},
   "outputs": [],
   "source": [
    "#Importing pi component from math module\n",
    "from math import pi"
   ]
  },
  {
   "cell_type": "code",
   "execution_count": 2,
   "id": "c722e9fe",
   "metadata": {},
   "outputs": [],
   "source": [
    "#Importing datetime module\n",
    "import datetime"
   ]
  },
  {
   "cell_type": "code",
   "execution_count": 9,
   "id": "3a4c6e8f",
   "metadata": {},
   "outputs": [
    {
     "name": "stdout",
     "output_type": "stream",
     "text": [
      "1234567890\n",
      "3.141592653589793\n",
      "0.723\n",
      "2023-06-03 17:01:53.023249\n"
     ]
    }
   ],
   "source": [
    "#running and printing the values of variables mentioned in assignment pdf\n",
    "x=1234567890\n",
    "y=pi\n",
    "z=.723\n",
    "today=datetime.datetime.now()\n",
    "print(x)\n",
    "print(y)\n",
    "print(z)\n",
    "print(today)"
   ]
  },
  {
   "cell_type": "markdown",
   "id": "5246e087",
   "metadata": {},
   "source": [
    "## 1. Using f format, write Python code that produces the output as shown in figure 1 on page 3."
   ]
  },
  {
   "cell_type": "code",
   "execution_count": 4,
   "id": "974e63ad",
   "metadata": {},
   "outputs": [
    {
     "name": "stdout",
     "output_type": "stream",
     "text": [
      "\t| 25 width left-aligned string output s = String Formatting        .\n"
     ]
    }
   ],
   "source": [
    "#1_1. 25 width left-aligned\n",
    "str=\"String Formatting\"\n",
    "print(f'\\t| 25 width left-aligned string output s = {str : <25}.')\n"
   ]
  },
  {
   "cell_type": "code",
   "execution_count": 5,
   "id": "2046a3e8",
   "metadata": {},
   "outputs": [
    {
     "name": "stdout",
     "output_type": "stream",
     "text": [
      "\t| 25 width left-aligned string output s padded with ? s = String Formatting????????.\n"
     ]
    }
   ],
   "source": [
    "#1_2. 25 width left-aligned with ? padded\n",
    "\n",
    "str_txt = \"String Formatting\";\n",
    "\n",
    "x = str_txt.ljust(25, \"?\")\n",
    "\n",
    "print(f'\\t| 25 width left-aligned string output s padded with ? s = {x}.')"
   ]
  },
  {
   "cell_type": "code",
   "execution_count": 6,
   "id": "3aa37c96",
   "metadata": {},
   "outputs": [
    {
     "name": "stdout",
     "output_type": "stream",
     "text": [
      "\t| 25 width right-aligned string output s =         String Formatting.\n"
     ]
    }
   ],
   "source": [
    "#1_3. 25 width right-aligned \n",
    "\n",
    "str=\"String Formatting\"\n",
    "print(f'\\t| 25 width right-aligned string output s = {str : >25}.')"
   ]
  },
  {
   "cell_type": "code",
   "execution_count": 7,
   "id": "78715393",
   "metadata": {},
   "outputs": [
    {
     "name": "stdout",
     "output_type": "stream",
     "text": [
      "\t| 25 width right-aligned string output s padded with ? s = ????????String Formatting.\n"
     ]
    }
   ],
   "source": [
    "#1_4. 25 width right-aligned with ? padded\n",
    "\n",
    "str_txt = \"String Formatting\";\n",
    "\n",
    "x = str_txt.rjust(25, \"?\")\n",
    "\n",
    "print(f'\\t| 25 width right-aligned string output s padded with ? s = {x}.')"
   ]
  },
  {
   "cell_type": "markdown",
   "id": "c4948226",
   "metadata": {},
   "source": [
    "## 2. Using f format, write Python code that produces the output as shown in figure 2 on page 3."
   ]
  },
  {
   "cell_type": "code",
   "execution_count": 10,
   "id": "369aeb9d",
   "metadata": {},
   "outputs": [
    {
     "name": "stdout",
     "output_type": "stream",
     "text": [
      "\t | Integer x with thousand separator x = 1,234,567,890\n"
     ]
    }
   ],
   "source": [
    "#2_1. Integer x with thousand separator x\n",
    "\n",
    "print(f\"\\t | Integer x with thousand separator x = {x:,}\")"
   ]
  },
  {
   "cell_type": "code",
   "execution_count": 11,
   "id": "f47ea194",
   "metadata": {},
   "outputs": [
    {
     "name": "stdout",
     "output_type": "stream",
     "text": [
      "\t| Integer x in binary = 1001001100101100000001011010010\n"
     ]
    }
   ],
   "source": [
    "#2_2. Integer x in binary \n",
    "\n",
    "#format number as binary (in base 2)\n",
    "x_base2 = f'{x:b}'\n",
    "print(f'\\t| Integer x in binary = {x_base2}')  \n",
    "\n",
    "#Convert an integer to a binary string prefixed with 0b\n",
    "#x_dec = bin(x)\n",
    "#print(x_dec)  \n",
    "\n",
    "#Convert an integer to a lowercase hexadecimal string prefixed with 0x\n",
    "#x_hex = hex(x)\n",
    "#print(x_hex)  \n"
   ]
  },
  {
   "cell_type": "code",
   "execution_count": 12,
   "id": "ceb5c8c3",
   "metadata": {},
   "outputs": [
    {
     "name": "stdout",
     "output_type": "stream",
     "text": [
      "\t| Floating-point with 10-decimal y = 3.1415926536\n"
     ]
    }
   ],
   "source": [
    "#2_3. Floating-point with 10-decimal y\n",
    "print(f\"\\t| Floating-point with 10-decimal y = {y:.10f}\")"
   ]
  },
  {
   "cell_type": "code",
   "execution_count": 13,
   "id": "e3e7a4e1",
   "metadata": {},
   "outputs": [
    {
     "name": "stdout",
     "output_type": "stream",
     "text": [
      "\t| Floating-point in scientific format y = 3.141593e+00\n"
     ]
    }
   ],
   "source": [
    "#2_4. Floating-point in scientific format y\n",
    "scientific_notation = \"{:e}\".format(y)\n",
    "print(f'\\t| Floating-point in scientific format y = {scientific_notation}')"
   ]
  },
  {
   "cell_type": "code",
   "execution_count": 14,
   "id": "bbe1d1e8",
   "metadata": {},
   "outputs": [
    {
     "name": "stdout",
     "output_type": "stream",
     "text": [
      "\t| Floating point as percentage z = 72.30%\n"
     ]
    }
   ],
   "source": [
    "#2_5. Floating point as percentage z\n",
    "print(f\"\\t| Floating point as percentage z = \"+\"{:.2%}\".format(z));"
   ]
  },
  {
   "cell_type": "markdown",
   "id": "57e49ded",
   "metadata": {},
   "source": [
    "## 3. Using f format, write Python code that produces the output as shown in figure 3 on page 4."
   ]
  },
  {
   "cell_type": "code",
   "execution_count": 15,
   "id": "6c37a1ee",
   "metadata": {},
   "outputs": [
    {
     "name": "stdout",
     "output_type": "stream",
     "text": [
      "Help on class datetime in module datetime:\n",
      "\n",
      "class datetime(date)\n",
      " |  datetime(year, month, day[, hour[, minute[, second[, microsecond[,tzinfo]]]]])\n",
      " |  \n",
      " |  The year, month and day arguments are required. tzinfo may be None, or an\n",
      " |  instance of a tzinfo subclass. The remaining arguments may be ints.\n",
      " |  \n",
      " |  Method resolution order:\n",
      " |      datetime\n",
      " |      date\n",
      " |      builtins.object\n",
      " |  \n",
      " |  Methods defined here:\n",
      " |  \n",
      " |  __add__(self, value, /)\n",
      " |      Return self+value.\n",
      " |  \n",
      " |  __eq__(self, value, /)\n",
      " |      Return self==value.\n",
      " |  \n",
      " |  __ge__(self, value, /)\n",
      " |      Return self>=value.\n",
      " |  \n",
      " |  __getattribute__(self, name, /)\n",
      " |      Return getattr(self, name).\n",
      " |  \n",
      " |  __gt__(self, value, /)\n",
      " |      Return self>value.\n",
      " |  \n",
      " |  __hash__(self, /)\n",
      " |      Return hash(self).\n",
      " |  \n",
      " |  __le__(self, value, /)\n",
      " |      Return self<=value.\n",
      " |  \n",
      " |  __lt__(self, value, /)\n",
      " |      Return self<value.\n",
      " |  \n",
      " |  __ne__(self, value, /)\n",
      " |      Return self!=value.\n",
      " |  \n",
      " |  __radd__(self, value, /)\n",
      " |      Return value+self.\n",
      " |  \n",
      " |  __reduce__(...)\n",
      " |      __reduce__() -> (cls, state)\n",
      " |  \n",
      " |  __reduce_ex__(...)\n",
      " |      __reduce_ex__(proto) -> (cls, state)\n",
      " |  \n",
      " |  __repr__(self, /)\n",
      " |      Return repr(self).\n",
      " |  \n",
      " |  __rsub__(self, value, /)\n",
      " |      Return value-self.\n",
      " |  \n",
      " |  __str__(self, /)\n",
      " |      Return str(self).\n",
      " |  \n",
      " |  __sub__(self, value, /)\n",
      " |      Return self-value.\n",
      " |  \n",
      " |  astimezone(...)\n",
      " |      tz -> convert to local time in new timezone tz\n",
      " |  \n",
      " |  ctime(...)\n",
      " |      Return ctime() style string.\n",
      " |  \n",
      " |  date(...)\n",
      " |      Return date object with same year, month and day.\n",
      " |  \n",
      " |  dst(...)\n",
      " |      Return self.tzinfo.dst(self).\n",
      " |  \n",
      " |  isoformat(...)\n",
      " |      [sep] -> string in ISO 8601 format, YYYY-MM-DDT[HH[:MM[:SS[.mmm[uuu]]]]][+HH:MM].\n",
      " |      sep is used to separate the year from the time, and defaults to 'T'.\n",
      " |      The optional argument timespec specifies the number of additional terms\n",
      " |      of the time to include. Valid options are 'auto', 'hours', 'minutes',\n",
      " |      'seconds', 'milliseconds' and 'microseconds'.\n",
      " |  \n",
      " |  replace(...)\n",
      " |      Return datetime with new specified fields.\n",
      " |  \n",
      " |  time(...)\n",
      " |      Return time object with same time but with tzinfo=None.\n",
      " |  \n",
      " |  timestamp(...)\n",
      " |      Return POSIX timestamp as float.\n",
      " |  \n",
      " |  timetuple(...)\n",
      " |      Return time tuple, compatible with time.localtime().\n",
      " |  \n",
      " |  timetz(...)\n",
      " |      Return time object with same time and tzinfo.\n",
      " |  \n",
      " |  tzname(...)\n",
      " |      Return self.tzinfo.tzname(self).\n",
      " |  \n",
      " |  utcoffset(...)\n",
      " |      Return self.tzinfo.utcoffset(self).\n",
      " |  \n",
      " |  utctimetuple(...)\n",
      " |      Return UTC time tuple, compatible with time.localtime().\n",
      " |  \n",
      " |  ----------------------------------------------------------------------\n",
      " |  Class methods defined here:\n",
      " |  \n",
      " |  combine(...) from builtins.type\n",
      " |      date, time -> datetime with same date and time fields\n",
      " |  \n",
      " |  fromisoformat(...) from builtins.type\n",
      " |      string -> datetime from datetime.isoformat() output\n",
      " |  \n",
      " |  fromtimestamp(...) from builtins.type\n",
      " |      timestamp[, tz] -> tz's local time from POSIX timestamp.\n",
      " |  \n",
      " |  now(tz=None) from builtins.type\n",
      " |      Returns new datetime object representing current time local to tz.\n",
      " |      \n",
      " |        tz\n",
      " |          Timezone object.\n",
      " |      \n",
      " |      If no tz is specified, uses local timezone.\n",
      " |  \n",
      " |  strptime(...) from builtins.type\n",
      " |      string, format -> new datetime parsed from a string (like time.strptime()).\n",
      " |  \n",
      " |  utcfromtimestamp(...) from builtins.type\n",
      " |      Construct a naive UTC datetime from a POSIX timestamp.\n",
      " |  \n",
      " |  utcnow(...) from builtins.type\n",
      " |      Return a new datetime representing UTC day and time.\n",
      " |  \n",
      " |  ----------------------------------------------------------------------\n",
      " |  Static methods defined here:\n",
      " |  \n",
      " |  __new__(*args, **kwargs) from builtins.type\n",
      " |      Create and return a new object.  See help(type) for accurate signature.\n",
      " |  \n",
      " |  ----------------------------------------------------------------------\n",
      " |  Data descriptors defined here:\n",
      " |  \n",
      " |  fold\n",
      " |  \n",
      " |  hour\n",
      " |  \n",
      " |  microsecond\n",
      " |  \n",
      " |  minute\n",
      " |  \n",
      " |  second\n",
      " |  \n",
      " |  tzinfo\n",
      " |  \n",
      " |  ----------------------------------------------------------------------\n",
      " |  Data and other attributes defined here:\n",
      " |  \n",
      " |  max = datetime.datetime(9999, 12, 31, 23, 59, 59, 999999)\n",
      " |  \n",
      " |  min = datetime.datetime(1, 1, 1, 0, 0)\n",
      " |  \n",
      " |  resolution = datetime.timedelta(microseconds=1)\n",
      " |  \n",
      " |  ----------------------------------------------------------------------\n",
      " |  Methods inherited from date:\n",
      " |  \n",
      " |  __format__(...)\n",
      " |      Formats self with strftime.\n",
      " |  \n",
      " |  isocalendar(...)\n",
      " |      Return a named tuple containing ISO year, week number, and weekday.\n",
      " |  \n",
      " |  isoweekday(...)\n",
      " |      Return the day of the week represented by the date.\n",
      " |      Monday == 1 ... Sunday == 7\n",
      " |  \n",
      " |  strftime(...)\n",
      " |      format -> strftime() style string.\n",
      " |  \n",
      " |  toordinal(...)\n",
      " |      Return proleptic Gregorian ordinal.  January 1 of year 1 is day 1.\n",
      " |  \n",
      " |  weekday(...)\n",
      " |      Return the day of the week represented by the date.\n",
      " |      Monday == 0 ... Sunday == 6\n",
      " |  \n",
      " |  ----------------------------------------------------------------------\n",
      " |  Class methods inherited from date:\n",
      " |  \n",
      " |  fromisocalendar(...) from builtins.type\n",
      " |      int, int, int -> Construct a date from the ISO year, week number and weekday.\n",
      " |      \n",
      " |      This is the inverse of the date.isocalendar() function\n",
      " |  \n",
      " |  fromordinal(...) from builtins.type\n",
      " |      int -> date corresponding to a proleptic Gregorian ordinal.\n",
      " |  \n",
      " |  today(...) from builtins.type\n",
      " |      Current date or datetime:  same as self.__class__.fromtimestamp(time.time()).\n",
      " |  \n",
      " |  ----------------------------------------------------------------------\n",
      " |  Data descriptors inherited from date:\n",
      " |  \n",
      " |  day\n",
      " |  \n",
      " |  month\n",
      " |  \n",
      " |  year\n",
      "\n"
     ]
    }
   ],
   "source": [
    "#getting help on datetime module\n",
    "help(datetime.datetime)"
   ]
  },
  {
   "cell_type": "code",
   "execution_count": 16,
   "id": "a48057b7",
   "metadata": {},
   "outputs": [
    {
     "name": "stdout",
     "output_type": "stream",
     "text": [
      "\t| Date in the format YY-MM-DD 23-06-03\n"
     ]
    }
   ],
   "source": [
    "#3_1. Date in the format YY-MM-DD\n",
    "x = datetime.datetime.now()\n",
    "\n",
    "print(f'\\t| Date in the format YY-MM-DD {x.strftime(\"%y-%m-%d\")}')\n"
   ]
  },
  {
   "cell_type": "code",
   "execution_count": 17,
   "id": "1e34b520",
   "metadata": {},
   "outputs": [
    {
     "name": "stdout",
     "output_type": "stream",
     "text": [
      "\t| Date in the format YYYY-MM-DD 2023-06-03\n"
     ]
    }
   ],
   "source": [
    "#3_2. Date in the format YYYY-MM-DD\n",
    "x = datetime.datetime.now()\n",
    "\n",
    "print(f'\\t| Date in the format YYYY-MM-DD {x.strftime(\"%Y-%m-%d\")}')\n"
   ]
  },
  {
   "cell_type": "code",
   "execution_count": 18,
   "id": "dc25ac7a",
   "metadata": {},
   "outputs": [
    {
     "name": "stdout",
     "output_type": "stream",
     "text": [
      "\t| Date in with the day & month name Saturday 03, June 2023\n"
     ]
    }
   ],
   "source": [
    "#3_3. Date in with the day & month name \n",
    "x = datetime.datetime.now()\n",
    "\n",
    "print(f'\\t| Date in with the day & month name {x.strftime(\"%A %d, %B %Y\")}')\n"
   ]
  },
  {
   "cell_type": "code",
   "execution_count": 19,
   "id": "df22b253",
   "metadata": {},
   "outputs": [
    {
     "name": "stdout",
     "output_type": "stream",
     "text": [
      "\t| Time in the format HH-MM-SS 17:02:35\n"
     ]
    }
   ],
   "source": [
    "#3_4. Time in the format HH-MM-SS\n",
    "x = datetime.datetime.now()\n",
    "\n",
    "print(f'\\t| Time in the format HH-MM-SS {x.strftime(\"%H:%M:%S\")}')\n"
   ]
  },
  {
   "cell_type": "code",
   "execution_count": 20,
   "id": "12515ab9",
   "metadata": {},
   "outputs": [
    {
     "name": "stdout",
     "output_type": "stream",
     "text": [
      "\t| Date in the format YYYY-MM-DD HH-MM-SS 2023-06-03 17:02:37\n"
     ]
    }
   ],
   "source": [
    "#3_5. Date in the format YYYY-MM-DD HH-MM-SS\n",
    "x = datetime.datetime.now()\n",
    "\n",
    "print(f'\\t| Date in the format YYYY-MM-DD HH-MM-SS {x.strftime(\"%Y-%m-%d %H:%M:%S\")}')\n"
   ]
  },
  {
   "cell_type": "code",
   "execution_count": null,
   "id": "3fafe3fa",
   "metadata": {},
   "outputs": [],
   "source": []
  }
 ],
 "metadata": {
  "kernelspec": {
   "display_name": "Python 3 (ipykernel)",
   "language": "python",
   "name": "python3"
  },
  "language_info": {
   "codemirror_mode": {
    "name": "ipython",
    "version": 3
   },
   "file_extension": ".py",
   "mimetype": "text/x-python",
   "name": "python",
   "nbconvert_exporter": "python",
   "pygments_lexer": "ipython3",
   "version": "3.9.16"
  }
 },
 "nbformat": 4,
 "nbformat_minor": 5
}
